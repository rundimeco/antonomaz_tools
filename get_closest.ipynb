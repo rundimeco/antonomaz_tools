{
 "cells": [
  {
   "cell_type": "code",
   "execution_count": 1,
   "metadata": {},
   "outputs": [],
   "source": [
    "import json\n",
    "import jellyfish\n",
    "import re"
   ]
  },
  {
   "cell_type": "code",
   "execution_count": 2,
   "metadata": {},
   "outputs": [],
   "source": [
    "def get_json(path):\n",
    "    f = open(path,encoding=\"utf-8\")\n",
    "    liste = json.load(f, strict=False)\n",
    "    f.close()\n",
    "    return liste"
   ]
  },
  {
   "cell_type": "code",
   "execution_count": 3,
   "metadata": {},
   "outputs": [],
   "source": [
    "def get_closest(title, number = 10, lowercase=True, path_compare =\"all_burlesque_pages_corrected.json\", word_filter = True ):\n",
    "    \"\"\" \n",
    "  En entrée, une chaîne de caractère (et en option le nombre de titres proches à retourner, par défaut : 5)\n",
    "  En sortie, la liste triée par ordre décroissant de similarité sous forme d'un triplet:\n",
    "    distance, ID_moreau, titre concerné\n",
    "  \"\"\"\n",
    "    liste_depart = get_json(path_compare)\n",
    "    #all_burlesque_pages_original_ocr.json\n",
    "    #all_burlesque_pages_ocr_without_linebreak.json\n",
    "    #all_burlesque_pages_corrected_without_linebreak.json\n",
    "    #all_burlesque_pages_corrected.json\n",
    "    #all_burlesque_pages_ocr_without_space.json\n",
    "    liste=[]\n",
    "    if lowercase==True:\n",
    "        for i in liste_depart:\n",
    "            liste.append(word.lower() for word in i)\n",
    "    mots_titre = set(title.split())\n",
    "    filtered_list = []\n",
    "    for ID, chaine in  liste:\n",
    "        mots_candidat = set(chaine.split())\n",
    "        inter = mots_titre.intersection(mots_candidat)\n",
    "    ##Si moins de 5 mots en commun (ou de la moitié) inutile de garder le candidat\n",
    "        if len(inter)>5 or len(inter)>(len(mots_titre)/2) or word_filter==False:\n",
    "            filtered_list.append([len(inter), ID, chaine])\n",
    "    f2 = []\n",
    "    for len_inter, ID, chaine in filtered_list:\n",
    "        sim = jellyfish.jaro_winkler(title,chaine)\n",
    "    ## On garde quand la similarité est supérieure à 0.5\n",
    "        if sim>0.5:\n",
    "            f2.append([sim, ID, chaine])\n",
    "    return sorted(f2, reverse=True)[:number]"
   ]
  },
  {
   "cell_type": "code",
   "execution_count": 4,
   "metadata": {},
   "outputs": [],
   "source": [
    "path_ocr = \"all_burlesque_pages_original_ocr.json\"\n",
    "path_clean = \"all_burlesque_pages_corrected.json\""
   ]
  },
  {
   "cell_type": "code",
   "execution_count": 5,
   "metadata": {},
   "outputs": [],
   "source": [
    "l_ocr = get_json(path_ocr)\n",
    "l_clean = get_json(path_clean)"
   ]
  },
  {
   "cell_type": "code",
   "execution_count": 6,
   "metadata": {},
   "outputs": [
    {
     "name": "stdout",
     "output_type": "stream",
     "text": [
      "{True: {'OK_first': {'ocr': 6, 'clean': 4, 'both': 4}, 'found': {'ocr': 6, 'clean': 4, 'both': 6}, 'intersections': [1, 0, 2, 3, 6, 3]}, False: {'OK_first': {'ocr': 5, 'clean': 4, 'both': 4}, 'found': {'ocr': 6, 'clean': 4, 'both': 6}, 'intersections': [0, 2, 2, 3, 6, 3]}}\n"
     ]
    }
   ],
   "source": [
    "#OK_first = donne les stats de bons résultats en première position\n",
    "#found = donne les stats quand la page est trouvée hors de la première position\n",
    "#Intersection = donne le nombre de résultats en commun pour chaque individu de l'échantillon\n",
    "\n",
    "dic_res = {True  : {\"OK_first\":{\"ocr\":0, \"clean\":0, \"both\":0}, \"found\": {\"ocr\":0, \"clean\":0, \"both\":0}, \"intersections\" : [] },\n",
    "           False : {\"OK_first\":{\"ocr\":0, \"clean\":0, \"both\":0}, \"found\": {\"ocr\":0, \"clean\":0, \"both\":0}, \"intersections\" : [] }}\n",
    "\n",
    "echantillon = 6\n",
    "\n",
    "#Lancement de la fonction avec et sans le paramètre des 5 mots\n",
    "for filter_status in [True, False]:\n",
    "  for i in range(echantillon):\n",
    "    ID, texte = l_ocr[i]\n",
    "    res_ocr = get_closest(texte, lowercase=True, path_compare = path_ocr, word_filter = filter_status)\n",
    "    liste_id_res_ocr = [x[1] for x in res_ocr]\n",
    "    res_clean = get_closest(texte, lowercase=True, path_compare = path_clean, word_filter = filter_status)\n",
    "    liste_id_res_clean = [x[1] for x in res_clean]\n",
    "    \n",
    "    #FOUND = résultats similaires dans les 10 premières sorties\n",
    "    pos_ocr, pos_clean = -1, -1\n",
    "    if ID.lower() in liste_id_res_ocr:\n",
    "      pos_ocr = liste_id_res_ocr.index(ID.lower())\n",
    "      dic_res[filter_status][\"found\"][\"ocr\"]+=1\n",
    "    if ID.lower() in liste_id_res_clean:\n",
    "      pos_clean = liste_id_res_clean.index(ID.lower()) \n",
    "      dic_res[filter_status][\"found\"][\"clean\"]+=1\n",
    "    if ID.lower() in liste_id_res_ocr:\n",
    "        dic_res[filter_status][\"found\"][\"both\"]+=1\n",
    "    en_commun = set(liste_id_res_ocr).intersection(set(liste_id_res_clean))\n",
    "    inter = len(en_commun)\n",
    "    \n",
    "    #OK_FIRST = résultats similaires en première page\n",
    "    if pos_ocr ==0:\n",
    "      dic_res[filter_status][\"OK_first\"][\"ocr\"]+=1\n",
    "    if pos_ocr==pos_clean:\n",
    "      dic_res[filter_status][\"OK_first\"][\"both\"]+=1\n",
    "    if pos_clean ==0:\n",
    "      dic_res[filter_status][\"OK_first\"][\"clean\"]+=1\n",
    "    dic_res[filter_status][\"intersections\"].append(inter)\n",
    "print(dic_res)"
   ]
  },
  {
   "cell_type": "code",
   "execution_count": 12,
   "metadata": {},
   "outputs": [
    {
     "name": "stdout",
     "output_type": "stream",
     "text": [
      "Word filter : True\n",
      "Précision : 0.5 (support = 4) \n",
      "Rappel : 0.5 (support = 4) \n",
      "Word filter : False\n",
      "Précision : 0.5 (support = 4) \n",
      "Rappel : 0.5 (support = 4) \n"
     ]
    }
   ],
   "source": [
    "for filter_status in dic_res.keys():\n",
    "  print(f\"Word filter : {filter_status}\")\n",
    "  NB_pages = len(dic_res[filter_status][\"intersections\"])\n",
    "  precision = dic_res[filter_status][\"OK_first\"][\"both\"]/NB_pages \n",
    "#Proportion des items pertinents parmi l'ensemble des items proposés = mesure de l'exactitude ou de la qualité\n",
    "  rappel = dic_res[filter_status][\"found\"][\"both\"]/NB_pages\n",
    "    #la proportion des items pertinents proposés parmi l'ensemble des items pertinents = mesure de l'exhaustivité ou de la quantité\n",
    "  print(f\"Précision : {precision} (support = {NB_pages}) \")\n",
    "  print(f\"Rappel : {precision} (support = {NB_pages}) \")"
   ]
  },
  {
   "cell_type": "code",
   "execution_count": 13,
   "metadata": {},
   "outputs": [
    {
     "name": "stdout",
     "output_type": "stream",
     "text": [
      "{True: {'OK_first': {'ocr': 4, 'clean': 2, 'both': 2}, 'found': {'ocr': 4, 'clean': 2, 'both': 4}, 'intersections': [1, 0, 2, 3]}, False: {'OK_first': {'ocr': 3, 'clean': 2, 'both': 2}, 'found': {'ocr': 4, 'clean': 2, 'both': 4}, 'intersections': [0, 2, 2, 3]}}\n"
     ]
    }
   ],
   "source": [
    "print(dic_res)"
   ]
  },
  {
   "cell_type": "code",
   "execution_count": 14,
   "metadata": {},
   "outputs": [
    {
     "data": {
      "text/plain": [
       "[1, 0, 2, 3]"
      ]
     },
     "execution_count": 14,
     "metadata": {},
     "output_type": "execute_result"
    }
   ],
   "source": [
    "(dic_res[True][\"intersections\"])"
   ]
  },
  {
   "cell_type": "code",
   "execution_count": 15,
   "metadata": {},
   "outputs": [],
   "source": [
    "import matplotlib.pyplot as plt\n",
    "import statistics\n",
    "# Use: statistics.mean(liste)\n",
    " \n",
    "from statistics import mean\n",
    "# Use: mean(liste)"
   ]
  },
  {
   "cell_type": "code",
   "execution_count": 17,
   "metadata": {},
   "outputs": [
    {
     "name": "stdout",
     "output_type": "stream",
     "text": [
      "<built-in method index of list object at 0x000001EE1BE3B480>\n"
     ]
    }
   ],
   "source": []
  },
  {
   "cell_type": "code",
   "execution_count": 37,
   "metadata": {},
   "outputs": [
    {
     "data": {
      "image/png": "[encoded data removed]",
      "text/plain": [
       "<Figure size 432x288 with 1 Axes>"
      ]
     },
     "metadata": {
      "needs_background": "light"
     },
     "output_type": "display_data"
    }
   ],
   "source": [
    "#Comparaison des courbes d'intersection avec paramètres True et False (5mots de similarité)\n",
    "x=[0,1,2,3]\n",
    "y_true=(dic_res[True][\"intersections\"])\n",
    "y_false=(dic_res[False][\"intersections\"])\n",
    "plt.plot(x,y_true,label='True')\n",
    "plt.plot(x,y_false,label='False')\n",
    "plt.xlabel(\"x - Nombre de requêtes\")\n",
    "plt.ylabel(\"y - Nb de résultats corrects en commun\")\n",
    "plt.title(\"Comparaison des courbes d'intersection avec paramètres True et False (5mots de similarité)\")\n",
    "plt.legend()\n",
    "plt.show()\n",
    "plt.close()\n"
   ]
  },
  {
   "cell_type": "code",
   "execution_count": null,
   "metadata": {},
   "outputs": [],
   "source": []
  }
 ],
 "metadata": {
  "kernelspec": {
   "display_name": "Python 3",
   "language": "python",
   "name": "python3"
  },
  "language_info": {
   "codemirror_mode": {
    "name": "ipython",
    "version": 3
   },
   "file_extension": ".py",
   "mimetype": "text/x-python",
   "name": "python",
   "nbconvert_exporter": "python",
   "pygments_lexer": "ipython3",
   "version": "3.8.5"
  }
 },
 "nbformat": 4,
 "nbformat_minor": 2
}
