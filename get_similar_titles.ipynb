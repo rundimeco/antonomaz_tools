{
 "cells": [
  {
   "cell_type": "code",
   "execution_count": 8,
   "metadata": {},
   "outputs": [],
   "source": [
    "from antono_tools import *"
   ]
  },
  {
   "cell_type": "code",
   "execution_count": 9,
   "metadata": {},
   "outputs": [
    {
     "name": "stdout",
     "output_type": "stream",
     "text": [
      "------------------------------\n",
      "A la reine, par un ecclésiastique\n",
      "  D=1.0 (ID=1), A la reine, par un ecclésiastique\n",
      "  D=0.5677 (ID=1016), Dernier exorcisme (le) du cardinal Mazarin, présen\n",
      "  D=0.5662 (ID=3431), Réponse (la) du père Favre (sic) , prédicateur et \n",
      "  D=0.5461 (ID=1151), Discours sur plusieurs points cachés et importants\n",
      "  D=0.5362 (ID=1564), Harangue faite à la reine, au Palais-Royal, le 21 \n",
      "------------------------------\n",
      "A messieurs du parlement\n",
      "  D=1.0 (ID=2), A messieurs du parlement\n",
      "  D=0.735 (ID=104), Apologie à messieurs du parlement de Pontoise\n",
      "  D=0.6147 (ID=125), Apologie pour messieurs du parlement contre quelqu\n",
      "  D=0.6048 (ID=106), Apologie de messieurs les députés du parlement de \n",
      "  D=0.5961 (ID=Sup1_157), Les Propositions de messieurs les princes faites à\n",
      "------------------------------\n",
      "A monseigneur Charles de Lorraine, duc d’Elbeuf, généralissime des armées du roi\n",
      "  D=1.0 (ID=3), A monseigneur Charles de Lorraine, duc d’Elbeuf, g\n",
      "  D=0.7082 (ID=1416), France (la) à monseigneur le duc d’Elbeuf, général\n",
      "  D=0.6061 (ID=2201), Lettre du sieur du Pelletier à monseigneur le duc \n",
      "  D=0.6057 (ID=3792), Trahison (la) du duc Charles tramée par le roi d'A\n",
      "  D=0.5761 (ID=2280), Lettres du roi écrites à monseigneur le duc de Mon\n",
      "------------------------------\n",
      "À monseigneur le Coadjuteur sur sa retraite du 5 avril 1651, Sonnet\n",
      "  D=1.0 (ID=4), À monseigneur le Coadjuteur sur sa retraite du 5 a\n",
      "  D=0.5807 (ID=3365), Réponse à la lettre d'avis à monseigneur le duc de\n",
      "  D=0.5594 (ID=1904), Lettre de cachet du roi, du 8 octobre 1651, envoyé\n",
      "------------------------------\n",
      "À monsieur de Broussel , conseiller du roi au parlement de Paris\n",
      "  D=1.0 (ID=5), À monsieur de Broussel , conseiller du roi au parl\n",
      "  D=0.6263 (ID=662), Cayer contenant les très-humbles remontrances des \n",
      "  D=0.6246 (ID=1579), Harangue faite au Parlement de Paris par M. de Voy\n",
      "  D=0.6122 (ID=2378), Manifeste de monsieur de Carlincas, conseiller du \n",
      "  D=0.6074 (ID=108), Apologie de M. le baron de Montenay, conseiller du\n",
      "------------------------------\n",
      "À nos seigneurs du parlement\n",
      "  D=1.0 (ID=7), À nos seigneurs du parlement\n",
      "  D=1.0 (ID=6), À nos seigneurs du parlement\n",
      "  D=0.9568 (ID=Sup1_2), À nos seigueurs du parlement.\n",
      "  D=0.6719 (ID=5), À monsieur de Broussel , conseiller du roi au parl\n",
      "  D=0.6346 (ID=476), Avis à nos seigneurs du parlement, sur la vente de\n",
      "------------------------------\n",
      "À nos seigneurs du parlement\n",
      "  D=1.0 (ID=7), À nos seigneurs du parlement\n",
      "  D=1.0 (ID=6), À nos seigneurs du parlement\n",
      "  D=0.9568 (ID=Sup1_2), À nos seigueurs du parlement.\n",
      "  D=0.6719 (ID=5), À monsieur de Broussel , conseiller du roi au parl\n",
      "  D=0.6346 (ID=476), Avis à nos seigneurs du parlement, sur la vente de\n",
      "------------------------------\n",
      "À qui aime la vérité\n",
      "  D=1.0 (ID=8), À qui aime la vérité\n",
      "  D=0.5249 (ID=2241), Lettre interceptée d'un serviteur de Dieu, savant \n",
      "  D=0.5132 (ID=15), Abrégé de l’Arsenal de la foi qui est contenu en c\n",
      "------------------------------\n",
      "À savoir (l') si nous aurons la paix et si notre guerre civile s'achèvera bientôt\n",
      "  D=1.0 (ID=9), À savoir (l') si nous aurons la paix et si notre g\n",
      "  D=0.5547 (ID=2678), Paradoxes (les) de l'éloignement de Mazarin pour s\n",
      "------------------------------\n",
      "À tous les évêques, prêtres et enfants de l’Église, Jean-François-Paul de Gondy, cardinal de Retz, archevêque de Paris\n",
      "  D=1.0 (ID=10), À tous les évêques, prêtres et enfants de l’Église\n",
      "  D=0.6962 (ID=1998), Lettre de monseigneur l'éminentissime cardinal de \n",
      "  D=0.6962 (ID=1997), Lettre de monseigneur l'éminentissime cardinal de \n",
      "  D=0.6517 (ID=1980), Lettre de M. le cardinal de Retz, archevêque de Pa\n",
      "  D=0.6517 (ID=1979), Lettre de M. le cardinal de Retz, archevêque de Pa\n"
     ]
    }
   ],
   "source": [
    "\n",
    "liste_titres = get_json(\"liste_titres_ID.json\")\n",
    "dic= {}\n",
    "cpt = 0\n",
    "for ID, titre in liste_titres[:10]: #A titre d'exemple\n",
    "    print(\"-\"*30)\n",
    "    print(titre)\n",
    "    closest_titles = get_closest(titre)\n",
    "    for dist, ID_moreau, chaine in closest_titles:\n",
    "        print(f\"  D={round(dist, 4)} (ID={ID_moreau}), {chaine[:50]}\")\n"
   ]
  },
  {
   "cell_type": "code",
   "execution_count": 10,
   "metadata": {},
   "outputs": [
    {
     "name": "stdout",
     "output_type": "stream",
     "text": [
      "  D=1.0 (ID=10), À tous les évêques, prêtres et enfants de l’Église\n",
      "  D=0.6962 (ID=1998), Lettre de monseigneur l'éminentissime cardinal de \n",
      "  D=0.6962 (ID=1997), Lettre de monseigneur l'éminentissime cardinal de \n",
      "  D=0.6517 (ID=1980), Lettre de M. le cardinal de Retz, archevêque de Pa\n",
      "  D=0.6517 (ID=1979), Lettre de M. le cardinal de Retz, archevêque de Pa\n"
     ]
    }
   ],
   "source": [
    "##en mode simple\n",
    "closest_tiles = get_closest(\"Cardinal Mazarin\")\n",
    "for dist, ID_moreau, chaine in closest_titles:\n",
    "    print(f\"  D={round(dist, 4)} (ID={ID_moreau}), {chaine[:50]}\")"
   ]
  },
  {
   "cell_type": "code",
   "execution_count": null,
   "metadata": {},
   "outputs": [],
   "source": []
  }
 ],
 "metadata": {
  "kernelspec": {
   "display_name": "Python 3",
   "language": "python",
   "name": "python3"
  },
  "language_info": {
   "codemirror_mode": {
    "name": "ipython",
    "version": 3
   },
   "file_extension": ".py",
   "mimetype": "text/x-python",
   "name": "python",
   "nbconvert_exporter": "python",
   "pygments_lexer": "ipython3",
   "version": "3.7.5"
  }
 },
 "nbformat": 4,
 "nbformat_minor": 2
}
