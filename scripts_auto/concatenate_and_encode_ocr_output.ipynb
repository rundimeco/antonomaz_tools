{
 "cells": [
  {
   "cell_type": "markdown",
   "metadata": {},
   "source": [
    "# Concaténer les output OCR et automatiser une partie de l'encodage\n",
    "* En entrée : un dossier = toutes les pages .txt d'une océrisation\n",
    "* En sortie : un fichier texte = concaténation et pré-encodage du texte océrisé\n",
    "* Script à placer au même niveau que les dossiers d'océrisation"
   ]
  },
  {
   "cell_type": "code",
   "execution_count": 31,
   "metadata": {},
   "outputs": [],
   "source": [
    "#Import des librairies nécessaires\n",
    "import os\n",
    "import re\n",
    "import glob"
   ]
  },
  {
   "cell_type": "code",
   "execution_count": 34,
   "metadata": {},
   "outputs": [],
   "source": [
    "def collection_ocr():\n",
    "#Création d'un dictionnaire id_moreau+liste fichiers texte correspondants\n",
    "    dic = {}\n",
    "    for filepath in glob.iglob('*\\*.txt'):\n",
    "        filename = re.split(\"\\\\\\\\\", filepath)[-1]\n",
    "        elems = re.split(\".pdf\", filename)\n",
    "        id_moreau = elems[0]\n",
    "        dic.setdefault(id_moreau, [])\n",
    "        dic[elems[0]].append(filename)\n",
    "    return(dic)\n",
    "\n",
    "def concaten_encod(regex=\"[^\\.].pdf-0?[1|2].png_bin.png.txt\"):\n",
    "#Concaténation et encodage des fichiers\n",
    "#regex = pour exclure certains fichiers de la concaténation en fonction de leur nom(ex : les deux premières pages)\n",
    "    dic=collection_ocr()\n",
    "    p=re.compile(regex, re.IGNORECASE)\n",
    "    try:\n",
    "        os.mkdir('sortie_concaten')\n",
    "    except:\n",
    "        pass\n",
    "    for id_moreau, filename in dic.items():\n",
    "        print(\"Identifiant du fichier : \"+id_moreau)\n",
    "        i=0\n",
    "        for file in filename:\n",
    "            m = p.search(file)\n",
    "            if m:\n",
    "                pass\n",
    "            else:\n",
    "                print(\"Fichier concaténé : \"+file)\n",
    "                for filepath in glob.iglob('*\\%s' %file):\n",
    "                    i+=1\n",
    "                    with open(filepath, \"r\", encoding='utf-8')as f:\n",
    "                        lignes=f.readlines()\n",
    "                    #Encodage des lignes\n",
    "                    data = [re.sub(\"^\", \"<l><lb/>\", l) for l in lignes]\n",
    "                    data = [re.sub(\"$\", \"</l>\", l) for l in data]\n",
    "                    #Suppression de l'encodage des lignes vides\n",
    "                    data = [re.sub(\"</l>\\n</l>\", \"</l>\\n\", l) for l in data]\n",
    "                    data = [re.sub(\"<l><lb/></l>\", \"\", l) for l in data]\n",
    "                    texte_encod=\"\".join(data)\n",
    "                    #Ajout de la balise pb numérotée entre chaque pages\n",
    "                    with open('sortie_concaten\\%s.txt' %id_moreau, 'a', encoding=\"utf-8\")as f:\n",
    "                        f.write(\"\\n\"+'<pb n=\"%s\"/>' %i+\"\\n\"+texte_encod)"
   ]
  },
  {
   "cell_type": "markdown",
   "metadata": {},
   "source": [
    "# Exemple d'utilisation :\n",
    "* Déposer ce script au même niveau que les dossiers contenant les pages des fichiers océrisés.\n",
    "* Compléter la regex en paramètre de concaten_encod() si certains fichiers sont à exclure en fonction de leur nom (le paramètre par défaut exclut les deux premières pages de l'ocr)\n",
    "* Cliquer sur Cell > Run all"
   ]
  },
  {
   "cell_type": "code",
   "execution_count": 33,
   "metadata": {},
   "outputs": [
    {
     "name": "stdout",
     "output_type": "stream",
     "text": [
      "Identifiant du fichier : Moreau43_GALL\n",
      "Fichier concaténé : Moreau43_GALL.pdf-03.png_bin.png.txt\n",
      "Fichier concaténé : Moreau43_GALL.pdf-04.png_bin.png.txt\n",
      "Fichier concaténé : Moreau43_GALL.pdf-06.png_bin.png.txt\n",
      "Fichier concaténé : Moreau43_GALL.pdf-07.png_bin.png.txt\n",
      "Fichier concaténé : Moreau43_GALL.pdf-08.png_bin.png.txt\n",
      "Fichier concaténé : Moreau43_GALL.pdf-09.png_bin.png.txt\n",
      "Fichier concaténé : Moreau43_GALL.pdf-10.png_bin.png - Copie.txt\n",
      "Fichier concaténé : Moreau43_GALL.pdf-11.png_bin.png.txt\n"
     ]
    }
   ],
   "source": [
    "concaten_encod(regex=\"[^\\.].pdf-0?[1|2].png_bin.png.txt\")"
   ]
  },
  {
   "cell_type": "markdown",
   "metadata": {},
   "source": [
    "**Les fichiers en sortie se trouvent dans le dossier sortie_concaten**"
   ]
  }
 ],
 "metadata": {
  "kernelspec": {
   "display_name": "Python 3",
   "language": "python",
   "name": "python3"
  },
  "language_info": {
   "codemirror_mode": {
    "name": "ipython",
    "version": 3
   },
   "file_extension": ".py",
   "mimetype": "text/x-python",
   "name": "python",
   "nbconvert_exporter": "python",
   "pygments_lexer": "ipython3",
   "version": "3.8.5"
  }
 },
 "nbformat": 4,
 "nbformat_minor": 4
}
