{
 "cells": [
  {
   "cell_type": "markdown",
   "metadata": {},
   "source": [
    "# Créer les dossiers et classer les fichiers XML des Mazarinades à l'intérieur"
   ]
  },
  {
   "cell_type": "markdown",
   "metadata": {},
   "source": [
    "**Lancer toutes les cellules dans le même répertoire que les fichiers XML mélangés.**\n",
    "* Ce script range les fichiers XML en fonction des noms des fichiers. Si le nommage évolue, il faudra adapter le script."
   ]
  },
  {
   "cell_type": "code",
   "execution_count": 5,
   "metadata": {},
   "outputs": [],
   "source": [
    "import os\n",
    "import re\n",
    "import glob"
   ]
  },
  {
   "cell_type": "code",
   "execution_count": 6,
   "metadata": {},
   "outputs": [],
   "source": [
    "#Création des noms des dossiers nécessaires\n",
    "liste_dossiers_M=['1-100', '101-200', '201-300', '301-400', '401-500', '501-600', '601-700', '701-800', '801-900', '901-1000', '1001-1100', '1101-1200', '1201-1300', '1301-1400', '1401-1500', '1501-1600', '1601-1700', '1701-1800', '1801-1900', '1901-2000', '2001-2100', '2101-2200', '2201-2300', '2301-2400', '2401-2500', '2501-2600', '2601-2700', '2701-2800', '2801-2900', '2901-3000', '3001-3100', '3101-3200', '3201-3300', '3301-3400', '3401-3500', '3501-3600', '3601-3700', '3701-3800', '3801-3900', '3901-4000', '4001-4100']\n",
    "liste_dossiers_supp=['Moreau_sup1','Moreau_sup2','Moreau_sup3']\n",
    "liste_dossiers_autres=['Labadie','Socard']\n"
   ]
  },
  {
   "cell_type": "code",
   "execution_count": 7,
   "metadata": {},
   "outputs": [
    {
     "name": "stdout",
     "output_type": "stream",
     "text": [
      "Le dossier 1-100 existe déjà.\n",
      "Le dossier 101-200 existe déjà.\n",
      "Le dossier 201-300 existe déjà.\n",
      "Le dossier 301-400 existe déjà.\n",
      "Le dossier 401-500 existe déjà.\n",
      "Le dossier 501-600 existe déjà.\n",
      "Le dossier 601-700 existe déjà.\n",
      "Le dossier 701-800 existe déjà.\n",
      "Le dossier 801-900 existe déjà.\n",
      "Le dossier 901-1000 existe déjà.\n",
      "Le dossier 1001-1100 existe déjà.\n",
      "Le dossier 1101-1200 existe déjà.\n",
      "Le dossier 1201-1300 existe déjà.\n",
      "Le dossier 1301-1400 existe déjà.\n",
      "Le dossier 1401-1500 existe déjà.\n",
      "Le dossier 1501-1600 existe déjà.\n",
      "Le dossier 1601-1700 existe déjà.\n",
      "Le dossier 1701-1800 existe déjà.\n",
      "Le dossier 1801-1900 existe déjà.\n",
      "Le dossier 1901-2000 existe déjà.\n",
      "Le dossier 2001-2100 existe déjà.\n",
      "Le dossier 2101-2200 existe déjà.\n",
      "Le dossier 2201-2300 existe déjà.\n",
      "Le dossier 2301-2400 existe déjà.\n",
      "Le dossier 2401-2500 existe déjà.\n",
      "Le dossier 2501-2600 existe déjà.\n",
      "Le dossier 2601-2700 existe déjà.\n",
      "Le dossier 2701-2800 existe déjà.\n",
      "Le dossier 2801-2900 existe déjà.\n",
      "Le dossier 2901-3000 existe déjà.\n",
      "Le dossier 3001-3100 existe déjà.\n",
      "Le dossier 3101-3200 existe déjà.\n",
      "Le dossier 3201-3300 existe déjà.\n",
      "Le dossier 3301-3400 existe déjà.\n",
      "Le dossier 3401-3500 existe déjà.\n",
      "Le dossier 3501-3600 existe déjà.\n",
      "Le dossier 3601-3700 existe déjà.\n",
      "Le dossier 3701-3800 existe déjà.\n",
      "Le dossier 3801-3900 existe déjà.\n",
      "Le dossier 3901-4000 existe déjà.\n",
      "Le dossier 4001-4100 existe déjà.\n",
      "Le dossier Moreau_sup1 existe déjà.\n",
      "Le dossier Moreau_sup2 existe déjà.\n",
      "Le dossier Moreau_sup3 existe déjà.\n",
      "Le dossier Labadie existe déjà.\n",
      "Le dossier Socard existe déjà.\n"
     ]
    }
   ],
   "source": [
    "#Création des dossiers\n",
    "for l in liste_dossiers_M:\n",
    "    try:\n",
    "        os.mkdir(l)\n",
    "    except:\n",
    "        print(\"Le dossier \"+l+\" existe déjà.\")\n",
    "\n",
    "for l in liste_dossiers_supp:\n",
    "    try:\n",
    "        os.mkdir(l)\n",
    "    except:\n",
    "        print(\"Le dossier \"+l+\" existe déjà.\")\n",
    "        \n",
    "for l in liste_dossiers_autres:\n",
    "    try:\n",
    "        os.mkdir(l)\n",
    "    except:\n",
    "        print(\"Le dossier \"+l+\" existe déjà.\")"
   ]
  },
  {
   "cell_type": "code",
   "execution_count": 9,
   "metadata": {},
   "outputs": [
    {
     "name": "stdout",
     "output_type": "stream",
     "text": [
      "Moreau1317-2_GBOOKS.xml\n",
      "1317-2\n",
      "1317\n",
      "Déplacement ok\n",
      "Moreau1745-2_GBOOKS.xml\n",
      "1745-2\n",
      "1745\n",
      "Déplacement ok\n",
      "Moreau3720-2_GBOOKS.xml\n",
      "3720-2\n",
      "3720\n",
      "Déplacement ok\n"
     ]
    }
   ],
   "source": [
    "#Rangement des fichiers en fonction de leur identifiant\n",
    "\n",
    "#Pour tous les fichiers XML (en vrac)\n",
    "for filepath in glob.iglob('*.xml'):\n",
    "    #Récupération de l'id Moreau à partir du nom du fichier\n",
    "    filename=re.split(\"_\",filepath)[0]\n",
    "    id_moreau=re.split(\"Moreau\",filename)[-1]\n",
    "    \n",
    "    #Si l'identifiant correspond à un Moreau (hors suppléments)\n",
    "    if re.match(\"Moreau[1-9][^s]\", filepath):\n",
    "        print(filepath)\n",
    "        print(id_moreau)\n",
    "        #Formule pour trouver le dossier correspondant à l'id\n",
    "        try:\n",
    "            for l in liste_dossiers_M:\n",
    "                debut,fin=re.split(\"-\",l)\n",
    "                if int(debut)<=int(id_moreau)<=int(fin):\n",
    "                    #Déplacement du fichier\n",
    "                    os.rename(filepath, \"%s-%s\\%s\" %(debut,fin,filepath))\n",
    "                    print(\"Déplacement ok\")\n",
    "        except:\n",
    "            #Rangement des identifiants qui ont des tirets (ex : Moreau1745-2)\n",
    "            id_moreau_tiret=re.split(\"-\",id_moreau)[0]\n",
    "            print(id_moreau_tiret)\n",
    "            for l in liste_dossiers_M:\n",
    "                debut,fin=re.split(\"-\",l)\n",
    "                if int(debut)<=int(id_moreau_tiret)<=int(fin):\n",
    "                    #Déplacement du fichier\n",
    "                    os.rename(filepath, \"%s-%s\\%s\" %(debut,fin,filepath))\n",
    "                    print(\"Déplacement ok\")\n",
    "    \n",
    "    #Si l'identifiant correspond à un supplément de Moreau\n",
    "    elif re.match(\"Moreau[1-3]su\", filepath):\n",
    "        print(filepath)\n",
    "        print(id_moreau)\n",
    "        if id_moreau.startswith('1'):\n",
    "            os.rename(filepath, \"Moreau_sup1/%s\" %filepath)\n",
    "            print(\"Déplacement ok\")\n",
    "        elif id_moreau.startswith('2'):\n",
    "            os.rename(filepath, \"Moreau_sup2/%s\" %filepath)\n",
    "            print(\"Déplacement ok\")\n",
    "        elif id_moreau.startswith('3'):\n",
    "            os.rename(filepath, \"Moreau_sup3/%s\" %filepath)\n",
    "            print(\"Déplacement ok\")\n",
    "    \n",
    "    #Si l'identifiant correspond à un Socard ou un Labadie\n",
    "    elif re.match(\"Lab|Soc\", filepath):\n",
    "        print(filepath)\n",
    "        print(id_moreau)\n",
    "        if id_moreau.startswith('Lab'):\n",
    "            os.rename(filepath, \"Labadie/%s\" %filepath)\n",
    "            print(\"Déplacement ok\")\n",
    "        if id_moreau.startswith('Soc'):\n",
    "            os.rename(filepath, \"Socard/%s\" %filepath)\n",
    "            print(\"Déplacement ok\")     "
   ]
  },
  {
   "cell_type": "code",
   "execution_count": null,
   "metadata": {},
   "outputs": [],
   "source": []
  }
 ],
 "metadata": {
  "kernelspec": {
   "display_name": "Python 3",
   "language": "python",
   "name": "python3"
  },
  "language_info": {
   "codemirror_mode": {
    "name": "ipython",
    "version": 3
   },
   "file_extension": ".py",
   "mimetype": "text/x-python",
   "name": "python",
   "nbconvert_exporter": "python",
   "pygments_lexer": "ipython3",
   "version": "3.8.5"
  }
 },
 "nbformat": 4,
 "nbformat_minor": 4
}
