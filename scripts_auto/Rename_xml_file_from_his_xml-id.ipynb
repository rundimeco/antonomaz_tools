{
 "cells": [
  {
   "cell_type": "markdown",
   "metadata": {},
   "source": [
    "# Rename_xml_file_from_his_xml-id\n",
    "* Ce script sert à renommer des fichiers XML à partir de leur xml:id."
   ]
  },
  {
   "cell_type": "code",
   "execution_count": 15,
   "metadata": {},
   "outputs": [],
   "source": [
    "import os\n",
    "from bs4 import BeautifulSoup\n",
    "import re\n",
    "import glob"
   ]
  },
  {
   "cell_type": "code",
   "execution_count": 18,
   "metadata": {
    "scrolled": true
   },
   "outputs": [],
   "source": [
    "#Parser le fichier XML\n",
    "for filepath in glob.iglob('*.xml'):\n",
    "    tei = open(filepath, 'r',encoding=\"utf-8\")\n",
    "    soup = BeautifulSoup(tei, 'lxml')\n",
    "    tei.close()\n",
    "    #Récupérer le contenu de la balise\n",
    "    xml_id = soup.tei[\"xml:id\"]\n",
    "    xml_id = xml_id+\".xml\"\n",
    "    #Renommer le fichier\n",
    "    os.rename(filepath, xml_id)"
   ]
  }
 ],
 "metadata": {
  "kernelspec": {
   "display_name": "Python 3",
   "language": "python",
   "name": "python3"
  },
  "language_info": {
   "codemirror_mode": {
    "name": "ipython",
    "version": 3
   },
   "file_extension": ".py",
   "mimetype": "text/x-python",
   "name": "python",
   "nbconvert_exporter": "python",
   "pygments_lexer": "ipython3",
   "version": "3.8.5"
  }
 },
 "nbformat": 4,
 "nbformat_minor": 4
}
