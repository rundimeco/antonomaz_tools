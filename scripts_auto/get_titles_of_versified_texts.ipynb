{
 "cells": [
  {
   "cell_type": "markdown",
   "metadata": {},
   "source": [
    "# get_titles_of_versified_texts\n",
    "* Ce script sert à extraire des informations à partir des fichiers XML-TEI.\n"
   ]
  },
  {
   "cell_type": "code",
   "execution_count": 1,
   "metadata": {},
   "outputs": [],
   "source": [
    "import os\n",
    "from bs4 import BeautifulSoup\n",
    "import re\n",
    "import glob"
   ]
  },
  {
   "cell_type": "markdown",
   "metadata": {},
   "source": [
    "## Récupérer la liste des textes versifiés"
   ]
  },
  {
   "cell_type": "code",
   "execution_count": 10,
   "metadata": {},
   "outputs": [
    {
     "name": "stdout",
     "output_type": "stream",
     "text": [
      "Recherche terminée, fichier texte créé. 153 textes en vers identifiés.\n"
     ]
    }
   ],
   "source": [
    "#regex à utiliser pour trouver les textes en vers\n",
    "p = re.compile(\"vers\",re.IGNORECASE)\n",
    "\n",
    "#Création du fichier de sortie\n",
    "f=open(\"liste_textes_vers.txt\", \"w\", encoding=\"utf-8\")\n",
    "f.close()\n",
    "i=0\n",
    "\n",
    "#Parser le fichier XML\n",
    "for filepath in glob.iglob('*.xml'):\n",
    "    tei = open(filepath, 'r',encoding=\"utf-8\")\n",
    "    soup = BeautifulSoup(tei, 'lxml')\n",
    "    tei.close()\n",
    "    \n",
    "    #Récupérer le contenu de la balise\n",
    "    text1 = soup.find('term', type='style')\n",
    "    contenu_balise_forme=str(text1)\n",
    "    \n",
    "    #Si contenu de la balise = \"vers\"\n",
    "    m = p.search(contenu_balise_forme)\n",
    "    if m:\n",
    "        i+=1\n",
    "        #Création du fichier de sortie avec liste des fichiers versifiés\n",
    "        f=open(\"liste_textes_vers.txt\", \"a\", encoding=\"utf-8\")\n",
    "        f.write(filepath+\"\\n\"+contenu_balise_forme+\"\\n\"+\"\\n\")\n",
    "        f.close()\n",
    "\n",
    "print(\"Recherche terminée, fichier texte créé. %s textes en vers identifiés.\" %i)\n"
   ]
  },
  {
   "cell_type": "markdown",
   "metadata": {},
   "source": [
    "## Récupérer la liste des bibliothèques présentes dans le corpus"
   ]
  },
  {
   "cell_type": "code",
   "execution_count": 3,
   "metadata": {},
   "outputs": [
    {
     "name": "stdout",
     "output_type": "stream",
     "text": [
      "Recherche terminée, fichier texte créé.\n"
     ]
    }
   ],
   "source": [
    "#Création du fichier de sortie\n",
    "f=open(\"liste_bibliothèques.txt\", \"w\", encoding=\"utf-8\")\n",
    "f.close()\n",
    "\n",
    "#Parser le fichier XML\n",
    "for filepath in glob.iglob('*.xml'):\n",
    "    tei = open(filepath, 'r',encoding=\"utf-8\")\n",
    "    soup = BeautifulSoup(tei, 'lxml')\n",
    "    tei.close()\n",
    "    \n",
    "    #Récupérer le contenu de la balise\n",
    "    text1 = soup.find('institution')\n",
    "    contenu_balise=str(text1)\n",
    "    \n",
    "    #Création du fichier de sortie avec liste des fichiers versifiés\n",
    "    f=open(\"liste_bibliothèques.txt\", \"a\", encoding=\"utf-8\")\n",
    "    f.write(contenu_balise+\"\\n\")\n",
    "    f.close()\n",
    "\n",
    "print(\"Recherche terminée, fichier texte créé.\")"
   ]
  },
  {
   "cell_type": "code",
   "execution_count": null,
   "metadata": {},
   "outputs": [],
   "source": []
  }
 ],
 "metadata": {
  "kernelspec": {
   "display_name": "Python 3",
   "language": "python",
   "name": "python3"
  },
  "language_info": {
   "codemirror_mode": {
    "name": "ipython",
    "version": 3
   },
   "file_extension": ".py",
   "mimetype": "text/x-python",
   "name": "python",
   "nbconvert_exporter": "python",
   "pygments_lexer": "ipython3",
   "version": "3.8.5"
  }
 },
 "nbformat": 4,
 "nbformat_minor": 4
}
