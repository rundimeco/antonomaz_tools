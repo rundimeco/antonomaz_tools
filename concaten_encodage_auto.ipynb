{
 "cells": [
  {
   "cell_type": "markdown",
   "metadata": {},
   "source": [
    "# Concaténer les output OCR et automatiser une partie de l'encodage\n",
    "* En entrée : un dossier = toutes les pages .txt d'une océrisation\n",
    "* En sortie : un fichier texte = concaténation et pré-encodage du texte océrisé\n",
    "* Script à placer au même niveau que les dossiers d'océrisation"
   ]
  },
  {
   "cell_type": "code",
   "execution_count": 1,
   "metadata": {},
   "outputs": [],
   "source": [
    "#Import des librairies nécessaires\n",
    "import os\n",
    "import re\n",
    "import glob"
   ]
  },
  {
   "cell_type": "code",
   "execution_count": 25,
   "metadata": {},
   "outputs": [],
   "source": [
    "def collection_ocr():\n",
    "#Création d'un dictionnaire id_moreau+liste fichiers texte correspondants\n",
    "    dic = {}\n",
    "    for filepath in glob.iglob('*\\*.txt'):\n",
    "        filename = re.split(\"\\\\\\\\\", filepath)[-1]\n",
    "        elems = re.split(\".pdf\", filename)\n",
    "        id_moreau = elems[0]\n",
    "        dic.setdefault(id_moreau, [])\n",
    "        dic[elems[0]].append(filename)\n",
    "    return(dic)\n",
    "\n",
    "def concaten_encod(regex=\"[^\\.].pdf-0?1|2.png_bin.png.txt\"):\n",
    "    dic=collection_ocr()\n",
    "    p=re.compile(regex, re.IGNORECASE)\n",
    "    try:\n",
    "        os.mkdir('sortie_concaten')\n",
    "    except:\n",
    "        pass\n",
    "    for id_moreau, filename in dic.items():\n",
    "        i=0\n",
    "        for file in filename:\n",
    "            m = p.search(file)\n",
    "            if m:\n",
    "                pass\n",
    "            else:\n",
    "                for filepath in glob.iglob('*\\%s' %file):\n",
    "                    i+=1\n",
    "                    with open(filepath, \"r\", encoding='utf-8')as f:\n",
    "                        lignes=f.readlines()\n",
    "                    #Encodage des lignes\n",
    "                    data = [re.sub(\"^\", \"<l><lb/>\", l) for l in lignes]\n",
    "                    data = [re.sub(\"$\", \"</l>\", l) for l in data]\n",
    "                    #Suppression de l'encodage des lignes vides\n",
    "                    data = [re.sub(\"</l>\\n</l>\", \"</l>\\n\", l) for l in data]\n",
    "                    data = [re.sub(\"<l><lb/></l>\", \"\", l) for l in data]\n",
    "                    texte_encod=\"\".join(data)\n",
    "                    #Ajout de la balise pb numérotée entre chaque pages\n",
    "                    with open('sortie_concaten\\%s.txt' %id_moreau, 'a', encoding=\"utf-8\")as f:\n",
    "                        f.write(\"\\n\"+'<pb n=\"%s\"/>' %i+\"\\n\"+texte_encod)"
   ]
  },
  {
   "cell_type": "markdown",
   "metadata": {},
   "source": [
    "# Exemple d'utilisation :"
   ]
  },
  {
   "cell_type": "code",
   "execution_count": 26,
   "metadata": {},
   "outputs": [],
   "source": [
    "concaten_encod(regex=\"[^\\.].pdf-0?1|2.png_bin.png.txt\")"
   ]
  },
  {
   "cell_type": "markdown",
   "metadata": {},
   "source": [
    "**Les fichiers en sortie se trouvent dans le dossier sortie_concaten**"
   ]
  }
 ],
 "metadata": {
  "kernelspec": {
   "display_name": "Python 3",
   "language": "python",
   "name": "python3"
  },
  "language_info": {
   "codemirror_mode": {
    "name": "ipython",
    "version": 3
   },
   "file_extension": ".py",
   "mimetype": "text/x-python",
   "name": "python",
   "nbconvert_exporter": "python",
   "pygments_lexer": "ipython3",
   "version": "3.8.5"
  }
 },
 "nbformat": 4,
 "nbformat_minor": 4
}
