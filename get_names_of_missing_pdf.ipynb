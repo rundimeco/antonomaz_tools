{
 "cells": [
  {
   "cell_type": "markdown",
   "metadata": {},
   "source": [
    "# Obtenir la liste des pdf manquants à partir du tableur \"Avancée_travail_corpus\"\n",
    "* Au préalable, exporter une version .txt ou .tsv du tableur \"Avancée_travail_corpus\" des titres avec les six colonnes suivantes dans cet ordre : id_moreau, titre, classe, pdf gall, pdf gbooks, pdf maz (séparateur : tabulations)"
   ]
  },
  {
   "cell_type": "code",
   "execution_count": 1,
   "metadata": {},
   "outputs": [],
   "source": [
    "import os\n",
    "import re\n",
    "import glob"
   ]
  },
  {
   "cell_type": "code",
   "execution_count": 21,
   "metadata": {},
   "outputs": [],
   "source": [
    "def load_data(path):\n",
    "#Pour charger les données du tableur\n",
    "    with open(path, \"r\", encoding=\"utf-8\") as f:\n",
    "        data=f.readlines()\n",
    "        return data\n",
    "\n",
    "def search_missing_pdf(path, regex=\"null\", classe_I=True):\n",
    "#Pour former la liste des pdf qui ne figurent dans aucune des trois colonnes : pdf gall, gbooks ou maz.\n",
    "#regex=valeur dans les colonnes du tableur spécifiant une entrée vide.\n",
    "#classe_I : Si True, le comptage exclue les titres pour lesquels la classe est \"I\" (inclassable).\n",
    "#Mettre \"False\" pour obtenir la liste des titres manquants sans distinction de classe.\n",
    "#Les résultats sont enregistrés dans un fichier .txt au même niveau que le script.\n",
    "    data=load_data(path)\n",
    "    if classe_I==False:\n",
    "        liste_manquante=[]\n",
    "        p=re.compile(regex)\n",
    "        for d in data:\n",
    "            id_moreau,title,classe,gall,gbooks,maz=re.split(\"\\t\", d)\n",
    "            m=p.match(gall)\n",
    "            if m:\n",
    "                m=p.match(gbooks)\n",
    "                if m:\n",
    "                    m=p.match(maz)\n",
    "                    if m:\n",
    "                        ligne_manquante=id_moreau+\"\\t\"+title+\"\\n\"\n",
    "                        liste_manquante.append(ligne_manquante)                \n",
    "        print(\"Nombre de titres manquants : \"+str(len(liste_manquante)))\n",
    "        with open(\"missing_all_pdf_titles.txt\", \"w\", encoding=\"utf-8\") as f:\n",
    "            for l in liste_manquante:\n",
    "                f.write(l)    \n",
    "    if classe_I==True:\n",
    "        liste_manquante=[]\n",
    "        p=re.compile(regex)\n",
    "        for d in data:\n",
    "            id_moreau,title,classe,gall,gbooks,maz=re.split(\"\\t\", d)\n",
    "            m=p.match(gall)\n",
    "            if m:\n",
    "                m=p.match(gbooks)\n",
    "                if m:\n",
    "                    m=p.match(maz)\n",
    "                    if m:\n",
    "                        p2=re.compile(\"[^I]\")\n",
    "                        m=p2.match(classe)\n",
    "                        if m:\n",
    "                            ligne_manquante=id_moreau+\"\\t\"+title+\"\\n\"\n",
    "                            liste_manquante.append(ligne_manquante)  \n",
    "        print(\"Nombre de titres manquants : \"+str(len(liste_manquante)))\n",
    "        with open(\"missing_pdf_titles_except_I.txt\", \"w\", encoding=\"utf-8\") as f:\n",
    "            for l in liste_manquante:\n",
    "                f.write(l)"
   ]
  },
  {
   "cell_type": "markdown",
   "metadata": {},
   "source": [
    "# Exemple d'utilisation :"
   ]
  },
  {
   "cell_type": "code",
   "execution_count": 22,
   "metadata": {},
   "outputs": [
    {
     "name": "stdout",
     "output_type": "stream",
     "text": [
      "Nombre de titres manquants : 2033\n"
     ]
    }
   ],
   "source": [
    "search_missing_pdf(\"Avancée_travail_corpus1207021.tsv\", regex=\"null\", classe_I=True)"
   ]
  }
 ],
 "metadata": {
  "kernelspec": {
   "display_name": "Python 3",
   "language": "python",
   "name": "python3"
  },
  "language_info": {
   "codemirror_mode": {
    "name": "ipython",
    "version": 3
   },
   "file_extension": ".py",
   "mimetype": "text/x-python",
   "name": "python",
   "nbconvert_exporter": "python",
   "pygments_lexer": "ipython3",
   "version": "3.8.5"
  }
 },
 "nbformat": 4,
 "nbformat_minor": 4
}
