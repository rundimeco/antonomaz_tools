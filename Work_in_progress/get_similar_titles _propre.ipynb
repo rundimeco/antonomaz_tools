{
 "cells": [
  {
   "cell_type": "code",
   "execution_count": 19,
   "metadata": {},
   "outputs": [],
   "source": [
    "import json\n",
    "import jellyfish\n",
    "import re"
   ]
  },
  {
   "cell_type": "code",
   "execution_count": 20,
   "metadata": {},
   "outputs": [],
   "source": [
    "def get_json(path):\n",
    "    f = open(path,encoding=\"utf-8\")\n",
    "    liste = json.load(f, strict=False)\n",
    "    f.close()\n",
    "    return liste"
   ]
  },
  {
   "cell_type": "code",
   "execution_count": 21,
   "metadata": {},
   "outputs": [],
   "source": [
    "def get_closest(title, number = 5, lowercase=True):\n",
    "    \"\"\" \n",
    "  En entrée, une chaîne de caractère (et en option le nombre de titres proches à retourner, par défaut : 5)\n",
    "  En sortie, la liste triée par ordre décroissant de similarité sous forme d'un triplet:\n",
    "    distance, ID_moreau, titre concerné\n",
    "  \"\"\"\n",
    "    liste_depart = get_json(\"para_propre1.json\")\n",
    "    liste=[]\n",
    "    if lowercase==True:\n",
    "        for i in liste_depart:\n",
    "            liste.append(word.lower() for word in i)\n",
    "    mots_titre = set(title.split())\n",
    "    filtered_list = []\n",
    "    for ID, chaine in  liste:\n",
    "        mots_candidat = set(chaine.split())\n",
    "        inter = mots_titre.intersection(mots_candidat)\n",
    "    ##Si moins de 5 mots en commun (ou de la moitié) inutile de garder le candidat\n",
    "        if len(inter)>5 or len(inter)>(len(mots_titre)/2):\n",
    "            filtered_list.append([len(inter), ID, chaine])\n",
    "    f2 = []\n",
    "    for len_inter, ID, chaine in filtered_list:\n",
    "        sim = jellyfish.jaro_winkler(title,chaine)\n",
    "    ## On garde quand la similarité est supérieure à 0.5\n",
    "        if sim>0.5:\n",
    "            f2.append([sim, ID, chaine])\n",
    "    return sorted(f2, reverse=True)[:number]"
   ]
  },
  {
   "cell_type": "code",
   "execution_count": 25,
   "metadata": {},
   "outputs": [
    {
     "name": "stdout",
     "output_type": "stream",
     "text": [
      "  D=0.9465 (ID=propre_1_7), et par vn petit compliment enjolle noſtre parlement. il accorde à toute la bande ce que la iuftice demande, et, couurant de cendres ſon feu, fait bonne mine à mauuais ieu: leur dit d'vne façon ciuile, que le roy veut rentrer en ville, et que ſans faute samedy il y ſera ſur le midy. pour ce coup il tint ſa promeſſe, et ramena maiſtre &amp; maiſtreſſe, afin que par vn ſecond dol il en fiſt derechef le vol. depuis ce iour vn mois ſe paſſe, on ne parle plus de diſgrace, et l'on ne void dedans paris par tout que matiere de ris. le fameux hoſtel de bourgogne, reprend de nouueau ſa beſogne, et le theatre du marais se veut encore mettre en frais, pour nous faire voir les merueilles de ſes machines nompareilles, et nous donner au carnaual vn plaiſir qui ſoit ſans égal. tout parle de réiouyſſance, de bals, de balets, &amp; de dance, et l'on eſpere deſormais les fruits d'vne profonde paix. mais ce n'eſtoit pas l'eſperance de la mazarine eminence, qui nous fit voir en peu de temps de bien contraires paſſetemps.\n",
      "  D=0.8529 (ID=propre_1_9), et viuent à diſcretion, ou pluſtoſt à profuſion. que cela donne de l'ombrage aux eſprits, qui craignent l'orage, et qui dans l'apprehenſion pourroient faire ſedition. nonobſtant telles remonſtances des parlementaires puiſſances, noſtre prelat, matois &amp; fin, ne ceſſe de tendre à ſa fin, et fait tant par ſes tours obliques, et par ſes ruſes diaboliques, qu'il amuſe tout le troupeau, dont il vouloit auoir la peau, luy promettant monts &amp; merueilles pour le prendre par les oreilles, et le mener ſi rondement qu’il ne ſoufflaſt pas ſeulement. il reſolut donc en luy-meſme de luy faire faire careſme, mais careſme qui dure plus, que ces gros careſmes joufflus, qui finiſſent le iour de paſques, eſtans ſaouls de viandes de caques. careſme, qui fort proprement se nomme jeuſne ſeulement. tel que celuy de la rochelle, qui mangea toute ſa chandelle, a fricaſſer friands mourceaux de caroſſes &amp; de cheuaux. et, qui n'ayant plus de quoy frire n'eut plus auſſi ſujet de rire, ains auſſi-toſt quitta le dé, et vint doucement à iubé.\n",
      "  D=0.8458 (ID=propre_1_5), et reprens ta gaillarde humeur, pour bien chanter cette rumeur. depuis le iour des barricades, où l'on fit maintes algarades a vaillans &amp; braues guerriers, qui combatoient pour financiers financiers, qu'on nomme ſangſuës pour parler en termes de ruës, peſtes d’eſtat, chiens de voleurs, maltoutiers, &amp; monopoleurs. du depuis, dis-ie, que nos bardes repouſſerent ſoldats des gardes, qui de tous coſtez aſſaillis gagnerent bien toſt le taillis. et par la force de leurs armes donnerent d'eſtranges alarmes a noſtre pauure chancelier, fort éloigné de ſon pallier; ce qui fit, nonobſtant ſa ſuite que petrvs gagna la guerite, pour ſe mettre à l'abry du vent, qui ſouffloit derriere &amp; deuant, formant en l'air vne tempeſte, dont le choc euſt briſé ſa teſte, s'il n'euſt bien toſt gagné le bord, pour ſe refugier au port; au port, s'entend au domicile, où logeoit prelat de sicile, qui plus paſle qu'vn treſpaſſé de tout ce qui s'eſtoit paſſé, receut ce compagnon d'office, eſchapé d'vn grand ſacrifice, qu'il penſa faire (ce dit-on) au dieu, qu’on appelle pluton,\n",
      "  D=0.7993 (ID=propre_1_6), quoy qu'en vne telle eſpouuante il euſt fait, (bien qu'il ne s'en vante,) de ſes pechez confeſſion, et receu l'abſolution. enfin depuis que nos megeres, c'eſt à dire, nos harangeres, firent ſi bien que ſans appel on rendit monſieur de brouſſel, qu'on auoit de chez luy par force enleué dedans vn caroſſe, et tranſporté dans certain lieu, pour ſe confeſſer au bon dieu de toutes ſes fautes paſſées, tant en paroles qu'en penſées; car, pour en franchement parler, breuuage il deuoit aualer; mais breuuage qui de maniere conduit tout droit au cimetiere, et par la vertu de ſes eaux garantit l'homme de tous maux. le rouge prelat de sicile songea deſlors à faire gille; voyant qu'à paris quelque iour on luy ioüeroit vn mauuais tour: en efſet ce faiſeur de ſauces en peu de temps tira ſes chauſſes, et ſans trompette ny tambour fit ſortir de paris la cour. mais ſe voyant à la campagne sans les troupes de l'alemagne, qu'il pretendoit faire venir, pour ſe venger, &amp; nous punir: son eſprit fertile en malice, inuente alors vn artifice,\n",
      "  D=0.798 (ID=propre_1_10), il en penſoit faire de meſme, par le moyen d'vn tel careſme: mais le pauure ſot eſt trompé, et ſon careſme eſt attrapé: mardy gras a donné taloche deſſus ſa mourante caboche, et d'vn coup d'abſolution luy a ſanglé le croupion. muſe, laiſſons-les là ſe battre et faire les diables à quatre; retournons à noſtre prelat, qui va faire ſon attentat. deſia la ſombre nuict approche, il s'en va mettre chat en poche, et faire vn tour de ſon meſtier plus ſubtilement que cormier. qu'il va bien tailler des croupieres a des gens qui n'y ſongent gueres ! ie veux qu'on me dague le ſein, si quatre ſçauent ſon deſſein. fais moy donc jallir de ta veine non pas quelque demie douzaine, mais quelque centaine de vers, pour bien décrire le reuers, dont mademoiſelle fortune renuerſa miniſtre nocturne, qui dans la faueur de la nuit s'eſchappa de paris ſans bruit. phoebus le grand falot du monde eſtoit encourtiné de l'onde, et le vieux penard de tithon, baiſoit encore le teton de la cephalienne gouge, dont la couleur eſt touſiours rouge,\n"
     ]
    }
   ],
   "source": [
    "##en mode simple\n",
    "requete=\"Et par vn petit compliment Enjolle noſtre Parlement. Il accorde à toute la bande Ce que la Iuftice demande, Et, couurant de cendres ſon feu, Fait bonne mine à mauuais ieu: Leur dit d’vne façon ciuile, Que le Roy veut rentrer en ville, Et que ſans faute Samedy Il y ſera ſur le midy. Pour ce coup il tint ſa promeſſe, Et ramena Maiſtre & Maiſtreſſe, Afin que par vn ſecond dol Il en fiſt derechef le vol. Depuis ce iour vn mois ſe paſſe, On ne parle plus de diſgrace, Et l’on ne void dedans Paris Par tout que matiere de ris. Le fameux Hoſtel de Bourgogne, Reprend de nouueau ſa beſogne, Et le Theatre du Marais Se veut encore mettre en frais, Pour nous faire voir les merueilles De ſes machines nompareilles, Et nous donner au Carnaual Vn plaiſir qui ſoit ſans égal. Tout parle de reiouyſſance, De Bals, de Balets, & de dance, Et l’on eſpere deſormais Les fruits d’vne profondé paix. Mais ce n’eſtoit pas l’eſperance De la Mazarine Eminence, Qui nous fit voir en peu de temps De bien ontraires paſſetemps. \"\n",
    "\n",
    "closest_titles = get_closest(requete.lower())\n",
    "for dist, ID_moreau, chaine in closest_titles:\n",
    "    print(f\"  D={round(dist, 4)} (ID={ID_moreau}), {chaine}\")"
   ]
  },
  {
   "cell_type": "code",
   "execution_count": null,
   "metadata": {},
   "outputs": [],
   "source": []
  }
 ],
 "metadata": {
  "kernelspec": {
   "display_name": "Python 3",
   "language": "python",
   "name": "python3"
  },
  "language_info": {
   "codemirror_mode": {
    "name": "ipython",
    "version": 3
   },
   "file_extension": ".py",
   "mimetype": "text/x-python",
   "name": "python",
   "nbconvert_exporter": "python",
   "pygments_lexer": "ipython3",
   "version": "3.8.5"
  }
 },
 "nbformat": 4,
 "nbformat_minor": 2
}
