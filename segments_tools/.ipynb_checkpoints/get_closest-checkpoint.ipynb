{
 "cells": [
  {
   "cell_type": "code",
   "execution_count": 84,
   "metadata": {},
   "outputs": [],
   "source": [
    "import json\n",
    "import jellyfish\n",
    "import re"
   ]
  },
  {
   "cell_type": "code",
   "execution_count": 85,
   "metadata": {},
   "outputs": [],
   "source": [
    "def get_json(path):\n",
    "    f = open(path,encoding=\"utf-8\")\n",
    "    liste = json.load(f, strict=False)\n",
    "    f.close()\n",
    "    return liste"
   ]
  },
  {
   "cell_type": "code",
   "execution_count": 86,
   "metadata": {},
   "outputs": [],
   "source": [
    "def get_closest(title, number = 10, lowercase=True):\n",
    "    \"\"\" \n",
    "  En entrée, une chaîne de caractère (et en option le nombre de titres proches à retourner, par défaut : 5)\n",
    "  En sortie, la liste triée par ordre décroissant de similarité sous forme d'un triplet:\n",
    "    distance, ID_moreau, titre concerné\n",
    "  \"\"\"\n",
    "    liste_depart = get_json(\"all_burlesque_pages_ocr_without_space.json\")\n",
    "    #all_burlesque_pages_original_ocr.json\n",
    "    #all_burlesque_pages_ocr_without_linebreak.json\n",
    "    #all_burlesque_pages_corrected_without_linebreak.json\n",
    "    #all_burlesque_pages_corrected.json\n",
    "    #all_burlesque_pages_ocr_without_space.json\n",
    "    liste=[]\n",
    "    if lowercase==True:\n",
    "        for i in liste_depart:\n",
    "            liste.append(word.lower() for word in i)\n",
    "    mots_titre = set(title.split())\n",
    "    filtered_list = []\n",
    "    for ID, chaine in  liste:\n",
    "        mots_candidat = set(chaine.split())\n",
    "        inter = mots_titre.intersection(mots_candidat)\n",
    "    ##Si moins de 5 mots en commun (ou de la moitié) inutile de garder le candidat\n",
    "        if len(inter)>5 or len(inter)>(len(mots_titre)/2):\n",
    "            filtered_list.append([len(inter), ID, chaine])\n",
    "    f2 = []\n",
    "    for len_inter, ID, chaine in filtered_list:\n",
    "        sim = jellyfish.jaro_winkler(title,chaine)\n",
    "    ## On garde quand la similarité est supérieure à 0.5\n",
    "        if sim>0.5:\n",
    "            f2.append([sim, ID, chaine])\n",
    "    return sorted(f2, reverse=True)[:number]"
   ]
  },
  {
   "cell_type": "code",
   "execution_count": 87,
   "metadata": {},
   "outputs": [],
   "source": [
    "f=open(\"requete5.txt\", \"r\",encoding=\"utf-8\")\n",
    "requete= f.read()\n",
    "f.close()"
   ]
  },
  {
   "cell_type": "code",
   "execution_count": 88,
   "metadata": {},
   "outputs": [
    {
     "name": "stdout",
     "output_type": "stream",
     "text": [
      "A8REQVESTEBVRLESQVEETCDESPARTISANSTAIH,TreAYR7J1113IILA.[Lettrine]enampampuV,ampamppoaadsSVPPLIEauechumilitesLeScindicqampampCommunaureSeDelAgentquidargentdepeupleteuibienlesgrandsquelepeuple,Maltotiersautrementnommez,MordanscommeLoupsaffamez,ExigeansurtoutesdenreesDroitsdeortiesoubiendentrees,PrenansforcedecoctionsDimpots,oudeSubuentions,MangeansenbiquesouamelettesDupauurepeuplelaCaillete,PrenanstouslesioursvnbouillonDaydes,deTailles,ampampdeTaillon.AyantbeauxlogisbeauxCarroes,Etcheuauxquineontpasroes.MeublezcommegrosFinanciersEtvetusenmilleoudiers,Faiansgrandfeuampampbonnetable,Maisaudepensdumierable.IouansalaprimeampampgrandfluxLesdroitsampampgaigesdesEleuz,Maintenantigueueracaille,QuilsnontpasvnhaboitquivailleEtlesfemmesatouslesIoursMettentleursantiquesarours,AfautederouuerdesdupesQuileurbaillentnouuellesiupesDontcertescetmoultgrandpitie.Poureuxampampleurcheremoitie,Quivabaguesampampjoyauxvendre,Pourdelamalefaimdeffendre\"\n"
     ]
    }
   ],
   "source": [
    "requete_corrig=re.sub(\"[^A-Za-z0-9\\[\\]\\\"\\._,]\",\"\", requete)\n",
    "print(requete_corrig)"
   ]
  },
  {
   "cell_type": "code",
   "execution_count": 89,
   "metadata": {},
   "outputs": [],
   "source": [
    "##en mode simple\n",
    "\n",
    "closest_titles = get_closest(requete.lower())\n",
    "for dist, ID_moreau, chaine in closest_titles:\n",
    "    print(f\"  D={round(dist, 4)} (ID={ID_moreau}), {chaine}\")"
   ]
  },
  {
   "cell_type": "code",
   "execution_count": null,
   "metadata": {},
   "outputs": [],
   "source": []
  }
 ],
 "metadata": {
  "kernelspec": {
   "display_name": "Python 3",
   "language": "python",
   "name": "python3"
  },
  "language_info": {
   "codemirror_mode": {
    "name": "ipython",
    "version": 3
   },
   "file_extension": ".py",
   "mimetype": "text/x-python",
   "name": "python",
   "nbconvert_exporter": "python",
   "pygments_lexer": "ipython3",
   "version": "3.8.5"
  }
 },
 "nbformat": 4,
 "nbformat_minor": 2
}
